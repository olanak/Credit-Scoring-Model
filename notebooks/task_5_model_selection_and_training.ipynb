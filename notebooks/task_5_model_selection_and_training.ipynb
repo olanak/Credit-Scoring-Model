{
 "cells": [
  {
   "cell_type": "markdown",
   "metadata": {},
   "source": [
    "## Import Libraries\n",
    "\n",
    "We import the necessary libraries for model selection, training, evaluation, and saving the trained models."
   ]
  },
  {
   "cell_type": "code",
   "execution_count": 28,
   "metadata": {},
   "outputs": [],
   "source": [
    "# Import libraries\n",
    "import pandas as pd\n",
    "import numpy as np\n",
    "from sklearn.model_selection import train_test_split, GridSearchCV\n",
    "from sklearn.preprocessing import StandardScaler\n",
    "from sklearn.linear_model import LogisticRegression\n",
    "from sklearn.tree import DecisionTreeClassifier\n",
    "from sklearn.ensemble import RandomForestClassifier, GradientBoostingClassifier\n",
    "from sklearn.metrics import (\n",
    "    accuracy_score, precision_score, recall_score, f1_score, roc_auc_score, \n",
    "    classification_report, confusion_matrix\n",
    ")\n",
    "import joblib  # For saving models"
   ]
  },
  {
   "cell_type": "markdown",
   "metadata": {},
   "source": [
    "## Load the Processed Dataset\n",
    "\n",
    "We load the dataset from `data/processed/default_estimator_data.csv` after WoE binning and feature engineering. The target variable (`Target`) is separated from the feature set (`X`)."
   ]
  },
  {
   "cell_type": "code",
   "execution_count": 42,
   "metadata": {},
   "outputs": [
    {
     "name": "stdout",
     "output_type": "stream",
     "text": [
      "Features (X):\n",
      "   CountryCode  FraudResult  TotalTransactionAmount  TransactionYear  \\\n",
      "0          256            0                0.557522             2018   \n",
      "1          256            0                0.557522             2018   \n",
      "2          256            0                0.556944             2018   \n",
      "3          256            0                0.558153             2018   \n",
      "4          256            0                0.558153             2018   \n",
      "\n",
      "        SubscriptionId       CustomerId CurrencyCode     ProductId  \\\n",
      "0   SubscriptionId_887  CustomerId_4406          UGX  ProductId_10   \n",
      "1  SubscriptionId_3829  CustomerId_4406          UGX   ProductId_6   \n",
      "2   SubscriptionId_222  CustomerId_4683          UGX   ProductId_1   \n",
      "3  SubscriptionId_2185   CustomerId_988          UGX  ProductId_21   \n",
      "4  SubscriptionId_3829   CustomerId_988          UGX   ProductId_6   \n",
      "\n",
      "   AverageTransactionAmount        TransactionId  ...  ProductCategory_tv_woe  \\\n",
      "0                  0.047184  TransactionId_76871  ...                     0.0   \n",
      "1                  0.047184  TransactionId_73770  ...                     0.0   \n",
      "2                  0.047137  TransactionId_26203  ...                     0.0   \n",
      "3                  0.047749    TransactionId_380  ...                     0.0   \n",
      "4                  0.047749  TransactionId_28195  ...                     0.0   \n",
      "\n",
      "  ProductCategory_movies_woe ProductCategory_other_woe  \\\n",
      "0                        0.0                       0.0   \n",
      "1                        0.0                       0.0   \n",
      "2                        0.0                       0.0   \n",
      "3                        0.0                       0.0   \n",
      "4                        0.0                       0.0   \n",
      "\n",
      "   ChannelId_ChannelId_2_woe  ChannelId_ChannelId_3_woe  Value_woe  \\\n",
      "0                   0.055441                   0.052312  -0.151252   \n",
      "1                  -0.091834                  -0.080450  -0.151252   \n",
      "2                   0.055441                   0.052312  -0.151252   \n",
      "3                   0.055441                   0.052312  -0.936297   \n",
      "4                  -0.091834                  -0.080450  -0.151252   \n",
      "\n",
      "   ProductCategory_data_bundles_woe  ProductCategory_financial_services_woe  \\\n",
      "0                               0.0                               -0.011427   \n",
      "1                               0.0                                0.012546   \n",
      "2                               0.0                               -0.011427   \n",
      "3                               0.0                               -0.011427   \n",
      "4                               0.0                                0.012546   \n",
      "\n",
      "  ProviderId_encoded_woe  ProductCategory_ticket_woe  \n",
      "0              -0.241886                         0.0  \n",
      "1              -0.076548                         0.0  \n",
      "2              -0.241886                         0.0  \n",
      "3               0.374016                         0.0  \n",
      "4              -0.076548                         0.0  \n",
      "\n",
      "[5 rows x 33 columns]\n",
      "\n",
      "Target (y):\n",
      "0    0\n",
      "1    0\n",
      "2    0\n",
      "3    0\n",
      "4    0\n",
      "Name: Target, dtype: int64\n"
     ]
    }
   ],
   "source": [
    "# Load the processed dataset\n",
    "data_path = \"../data/processed/default_estimator_data.csv\"\n",
    "df = pd.read_csv(data_path)\n",
    "\n",
    "# Separate features and target variable\n",
    "X = df.drop(columns=['Target', 'Risk_Label_x', 'Risk_Label_y', 'Risk_Label'])  # Exclude non-numeric columns\n",
    "y = df['Target']\n",
    "\n",
    "# Display the first few rows of X and y\n",
    "print(\"Features (X):\")\n",
    "print(X.head())\n",
    "print(\"\\nTarget (y):\")\n",
    "print(y.head())"
   ]
  },
  {
   "cell_type": "markdown",
   "metadata": {},
   "source": [
    "## Train-Test Split\n",
    "\n",
    "We split the dataset into training (80%) and testing (20%) sets using stratified sampling to ensure balanced class distribution. Numerical features are scaled using `StandardScaler` for optimal model performance."
   ]
  },
  {
   "cell_type": "code",
   "execution_count": 44,
   "metadata": {},
   "outputs": [
    {
     "name": "stdout",
     "output_type": "stream",
     "text": [
      "Updated Features (X):\n",
      "   CountryCode  FraudResult  TotalTransactionAmount  TransactionYear  \\\n",
      "0          256            0                0.557522             2018   \n",
      "1          256            0                0.557522             2018   \n",
      "2          256            0                0.556944             2018   \n",
      "3          256            0                0.558153             2018   \n",
      "4          256            0                0.558153             2018   \n",
      "\n",
      "   AverageTransactionAmount  TransactionMonth  StdDevTransactionAmount  \\\n",
      "0                  0.047184                11                 0.000919   \n",
      "1                  0.047184                11                 0.000919   \n",
      "2                  0.047137                11                 0.000000   \n",
      "3                  0.047749                11                 0.005187   \n",
      "4                  0.047749                11                 0.005187   \n",
      "\n",
      "   TransactionDay  PricingStrategy  TransactionHour  ...  \\\n",
      "0              15                2                2  ...   \n",
      "1              15                2                2  ...   \n",
      "2              15                2                2  ...   \n",
      "3              15                2                3  ...   \n",
      "4              15                2                3  ...   \n",
      "\n",
      "   ProductCategory_tv_woe  ProductCategory_movies_woe  \\\n",
      "0                     0.0                         0.0   \n",
      "1                     0.0                         0.0   \n",
      "2                     0.0                         0.0   \n",
      "3                     0.0                         0.0   \n",
      "4                     0.0                         0.0   \n",
      "\n",
      "   ProductCategory_other_woe  ChannelId_ChannelId_2_woe  \\\n",
      "0                        0.0                   0.055441   \n",
      "1                        0.0                  -0.091834   \n",
      "2                        0.0                   0.055441   \n",
      "3                        0.0                   0.055441   \n",
      "4                        0.0                  -0.091834   \n",
      "\n",
      "   ChannelId_ChannelId_3_woe  Value_woe  ProductCategory_data_bundles_woe  \\\n",
      "0                   0.052312  -0.151252                               0.0   \n",
      "1                  -0.080450  -0.151252                               0.0   \n",
      "2                   0.052312  -0.151252                               0.0   \n",
      "3                   0.052312  -0.936297                               0.0   \n",
      "4                  -0.080450  -0.151252                               0.0   \n",
      "\n",
      "   ProductCategory_financial_services_woe  ProviderId_encoded_woe  \\\n",
      "0                               -0.011427               -0.241886   \n",
      "1                                0.012546               -0.076548   \n",
      "2                               -0.011427               -0.241886   \n",
      "3                               -0.011427                0.374016   \n",
      "4                                0.012546               -0.076548   \n",
      "\n",
      "   ProductCategory_ticket_woe  \n",
      "0                         0.0  \n",
      "1                         0.0  \n",
      "2                         0.0  \n",
      "3                         0.0  \n",
      "4                         0.0  \n",
      "\n",
      "[5 rows x 25 columns]\n"
     ]
    }
   ],
   "source": [
    "# Identify numeric features\n",
    "numeric_features = X.select_dtypes(include=['float64', 'int64']).columns.tolist()\n",
    "\n",
    "# Filter the feature set to include only numeric features\n",
    "X = X[numeric_features]\n",
    "\n",
    "\n",
    "# Verify the updated feature set\n",
    "print(\"Updated Features (X):\")\n",
    "print(X.head())"
   ]
  },
  {
   "cell_type": "code",
   "execution_count": 45,
   "metadata": {},
   "outputs": [
    {
     "name": "stdout",
     "output_type": "stream",
     "text": [
      "Scaler saved to ../models/scaler.pkl\n"
     ]
    }
   ],
   "source": [
    "# Save the scaler for later use\n",
    "scaler_path = \"../models/scaler.pkl\"\n",
    "joblib.dump(scaler, scaler_path)\n",
    "\n",
    "print(f\"Scaler saved to {scaler_path}\")"
   ]
  },
  {
   "cell_type": "code",
   "execution_count": 32,
   "metadata": {},
   "outputs": [],
   "source": [
    "# Split the data into training and testing sets\n",
    "X_train, X_test, y_train, y_test = train_test_split(X, y, test_size=0.2, random_state=42, stratify=y)\n",
    "\n",
    "# Scale numeric features\n",
    "scaler = StandardScaler()\n",
    "X_train = scaler.fit_transform(X_train)\n",
    "X_test = scaler.transform(X_test)"
   ]
  },
  {
   "cell_type": "markdown",
   "metadata": {},
   "source": [
    "## Model Selection and Training\n",
    "\n",
    "We train four models:\n",
    "1. Logistic Regression\n",
    "2. Decision Tree\n",
    "3. Random Forest\n",
    "4. Gradient Boosting\n",
    "\n",
    "Each model is evaluated using metrics such as Accuracy, Precision, Recall, F1 Score, and ROC-AUC."
   ]
  },
  {
   "cell_type": "code",
   "execution_count": 33,
   "metadata": {},
   "outputs": [],
   "source": [
    "# Define a dictionary to store model results\n",
    "model_results = {}\n",
    "\n",
    "# Logistic Regression\n",
    "logreg = LogisticRegression(random_state=42, max_iter=1000)\n",
    "logreg.fit(X_train, y_train)\n",
    "y_pred_logreg = logreg.predict(X_test)\n",
    "model_results['Logistic Regression'] = {\n",
    "    'Accuracy': accuracy_score(y_test, y_pred_logreg),\n",
    "    'Precision': precision_score(y_test, y_pred_logreg),\n",
    "    'Recall': recall_score(y_test, y_pred_logreg),\n",
    "    'F1 Score': f1_score(y_test, y_pred_logreg),\n",
    "    'ROC-AUC': roc_auc_score(y_test, y_pred_logreg)\n",
    "}\n",
    "\n",
    "# Decision Tree\n",
    "dt = DecisionTreeClassifier(random_state=42)\n",
    "dt.fit(X_train, y_train)\n",
    "y_pred_dt = dt.predict(X_test)\n",
    "model_results['Decision Tree'] = {\n",
    "    'Accuracy': accuracy_score(y_test, y_pred_dt),\n",
    "    'Precision': precision_score(y_test, y_pred_dt),\n",
    "    'Recall': recall_score(y_test, y_pred_dt),\n",
    "    'F1 Score': f1_score(y_test, y_pred_dt),\n",
    "    'ROC-AUC': roc_auc_score(y_test, y_pred_dt)\n",
    "}\n",
    "\n",
    "# Random Forest\n",
    "rf = RandomForestClassifier(random_state=42, n_jobs=-1)\n",
    "rf.fit(X_train, y_train)\n",
    "y_pred_rf = rf.predict(X_test)\n",
    "model_results['Random Forest'] = {\n",
    "    'Accuracy': accuracy_score(y_test, y_pred_rf),\n",
    "    'Precision': precision_score(y_test, y_pred_rf),\n",
    "    'Recall': recall_score(y_test, y_pred_rf),\n",
    "    'F1 Score': f1_score(y_test, y_pred_rf),\n",
    "    'ROC-AUC': roc_auc_score(y_test, y_pred_rf)\n",
    "}\n",
    "\n",
    "# Gradient Boosting\n",
    "gbm = GradientBoostingClassifier(random_state=42)\n",
    "gbm.fit(X_train, y_train)\n",
    "y_pred_gbm = gbm.predict(X_test)\n",
    "model_results['Gradient Boosting'] = {\n",
    "    'Accuracy': accuracy_score(y_test, y_pred_gbm),\n",
    "    'Precision': precision_score(y_test, y_pred_gbm),\n",
    "    'Recall': recall_score(y_test, y_pred_gbm),\n",
    "    'F1 Score': f1_score(y_test, y_pred_gbm),\n",
    "    'ROC-AUC': roc_auc_score(y_test, y_pred_gbm)\n",
    "}"
   ]
  },
  {
   "cell_type": "code",
   "execution_count": 34,
   "metadata": {},
   "outputs": [
    {
     "name": "stdout",
     "output_type": "stream",
     "text": [
      "Model Performance:\n",
      "                     Accuracy  Precision    Recall  F1 Score   ROC-AUC\n",
      "Decision Tree        0.993467   0.983040  0.976352  0.979685  0.986556\n",
      "Random Forest        0.980871   0.974538  0.905086  0.938529  0.950268\n",
      "Gradient Boosting    0.909842   0.852850  0.533204  0.656169  0.757752\n",
      "Logistic Regression  0.861391   0.642810  0.317136  0.424729  0.641617\n"
     ]
    }
   ],
   "source": [
    "# Convert model results to a DataFrame\n",
    "results_df = pd.DataFrame(model_results).T\n",
    "results_df = results_df[['Accuracy', 'Precision', 'Recall', 'F1 Score', 'ROC-AUC']]\n",
    "results_df.sort_values(by='ROC-AUC', ascending=False, inplace=True)\n",
    "\n",
    "# Display the results\n",
    "print(\"Model Performance:\")\n",
    "print(results_df)"
   ]
  },
  {
   "cell_type": "code",
   "execution_count": 36,
   "metadata": {},
   "outputs": [],
   "source": [
    "# Define hyperparameter grid for Random Forest\n",
    "param_grid = {\n",
    "    'n_estimators': [100, 200],  # Number of trees in the forest\n",
    "    'max_depth': [None, 10, 20],  # Maximum depth of the tree\n",
    "    'min_samples_split': [2, 5, 10]  # Minimum number of samples required to split an internal node\n",
    "}"
   ]
  },
  {
   "cell_type": "code",
   "execution_count": 37,
   "metadata": {},
   "outputs": [
    {
     "name": "stdout",
     "output_type": "stream",
     "text": [
      "Best Parameters: {'max_depth': None, 'min_samples_split': 2, 'n_estimators': 200}\n",
      "Best ROC-AUC Score: 0.995276478486252\n"
     ]
    }
   ],
   "source": [
    "# Initialize Random Forest classifier\n",
    "rf = RandomForestClassifier(random_state=42, n_jobs=-1)\n",
    "\n",
    "# Perform Grid Search\n",
    "grid_search = GridSearchCV(estimator=rf, param_grid=param_grid, cv=3, scoring='roc_auc', n_jobs=-1)\n",
    "grid_search.fit(X_train, y_train)  # X_train and y_train should already be defined\n",
    "\n",
    "# Best parameters and score\n",
    "print(\"Best Parameters:\", grid_search.best_params_)\n",
    "print(\"Best ROC-AUC Score:\", grid_search.best_score_)"
   ]
  },
  {
   "cell_type": "code",
   "execution_count": 38,
   "metadata": {},
   "outputs": [],
   "source": [
    "# Retrieve the best estimator\n",
    "best_rf = grid_search.best_estimator_\n",
    "\n",
    "# Retrain on the full training set\n",
    "best_rf.fit(X_train, y_train)\n",
    "\n",
    "# Predict on the test set\n",
    "y_pred_best_rf = best_rf.predict(X_test)\n",
    "y_prob_best_rf = best_rf.predict_proba(X_test)[:, 1]  # Probability estimates for class 1 (High-Risk)"
   ]
  },
  {
   "cell_type": "code",
   "execution_count": 39,
   "metadata": {},
   "outputs": [
    {
     "name": "stdout",
     "output_type": "stream",
     "text": [
      "Accuracy: 0.9823\n",
      "Precision: 0.9787\n",
      "Recall: 0.9099\n",
      "F1 Score: 0.9431\n",
      "ROC-AUC: 0.9978\n"
     ]
    }
   ],
   "source": [
    "# Calculate evaluation metrics\n",
    "accuracy = accuracy_score(y_test, y_pred_best_rf)\n",
    "precision = precision_score(y_test, y_pred_best_rf)\n",
    "recall = recall_score(y_test, y_pred_best_rf)\n",
    "f1 = f1_score(y_test, y_pred_best_rf)\n",
    "roc_auc = roc_auc_score(y_test, y_prob_best_rf)\n",
    "\n",
    "# Display results\n",
    "print(f\"Accuracy: {accuracy:.4f}\")\n",
    "print(f\"Precision: {precision:.4f}\")\n",
    "print(f\"Recall: {recall:.4f}\")\n",
    "print(f\"F1 Score: {f1:.4f}\")\n",
    "print(f\"ROC-AUC: {roc_auc:.4f}\")"
   ]
  },
  {
   "cell_type": "code",
   "execution_count": 40,
   "metadata": {},
   "outputs": [
    {
     "name": "stdout",
     "output_type": "stream",
     "text": [
      "Tuned Random Forest model saved to ../models/best_random_forest_model.pkl\n"
     ]
    }
   ],
   "source": [
    "# Save the tuned model\n",
    "model_path = \"../models/best_random_forest_model.pkl\"\n",
    "joblib.dump(best_rf, model_path)\n",
    "\n",
    "print(f\"Tuned Random Forest model saved to {model_path}\")"
   ]
  }
 ],
 "metadata": {
  "kernelspec": {
   "display_name": "venv",
   "language": "python",
   "name": "python3"
  },
  "language_info": {
   "codemirror_mode": {
    "name": "ipython",
    "version": 3
   },
   "file_extension": ".py",
   "mimetype": "text/x-python",
   "name": "python",
   "nbconvert_exporter": "python",
   "pygments_lexer": "ipython3",
   "version": "3.12.3"
  }
 },
 "nbformat": 4,
 "nbformat_minor": 2
}
