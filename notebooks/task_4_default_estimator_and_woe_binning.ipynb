{
 "cells": [
  {
   "cell_type": "markdown",
   "metadata": {},
   "source": [
    "## Import Libraries\n",
    "\n",
    "We import the necessary libraries for constructing the default estimator and performing Weight of Evidence (WoE) binning."
   ]
  },
  {
   "cell_type": "code",
   "execution_count": 26,
   "metadata": {},
   "outputs": [],
   "source": [
    "# Import libraries\n",
    "import pandas as pd\n",
    "import numpy as np\n",
    "import scorecardpy as sc\n",
    "from datetime import datetime\n",
    "# For visualization\n",
    "import matplotlib.pyplot as plt\n",
    "import seaborn as sns"
   ]
  },
  {
   "cell_type": "code",
   "execution_count": 27,
   "metadata": {},
   "outputs": [],
   "source": [
    "sns.set_style(\"whitegrid\")\n",
    "plt.style.use('ggplot')"
   ]
  },
  {
   "cell_type": "markdown",
   "metadata": {},
   "source": [
    "## Load the Engineered Dataset\n",
    "\n",
    "We load the cleaned and engineered dataset from `data/processed/engineered_data.csv` to proceed with constructing the default estimator and WoE binning."
   ]
  },
  {
   "cell_type": "code",
   "execution_count": 28,
   "metadata": {},
   "outputs": [
    {
     "data": {
      "text/html": [
       "<div>\n",
       "<style scoped>\n",
       "    .dataframe tbody tr th:only-of-type {\n",
       "        vertical-align: middle;\n",
       "    }\n",
       "\n",
       "    .dataframe tbody tr th {\n",
       "        vertical-align: top;\n",
       "    }\n",
       "\n",
       "    .dataframe thead th {\n",
       "        text-align: right;\n",
       "    }\n",
       "</style>\n",
       "<table border=\"1\" class=\"dataframe\">\n",
       "  <thead>\n",
       "    <tr style=\"text-align: right;\">\n",
       "      <th></th>\n",
       "      <th>TransactionId</th>\n",
       "      <th>BatchId</th>\n",
       "      <th>AccountId</th>\n",
       "      <th>SubscriptionId</th>\n",
       "      <th>CustomerId</th>\n",
       "      <th>CurrencyCode</th>\n",
       "      <th>CountryCode</th>\n",
       "      <th>ProductId</th>\n",
       "      <th>Amount</th>\n",
       "      <th>Value</th>\n",
       "      <th>...</th>\n",
       "      <th>ProductCategory_movies</th>\n",
       "      <th>ProductCategory_other</th>\n",
       "      <th>ProductCategory_ticket</th>\n",
       "      <th>ProductCategory_transport</th>\n",
       "      <th>ProductCategory_tv</th>\n",
       "      <th>ProductCategory_utility_bill</th>\n",
       "      <th>ChannelId_ChannelId_2</th>\n",
       "      <th>ChannelId_ChannelId_3</th>\n",
       "      <th>ChannelId_ChannelId_5</th>\n",
       "      <th>ProviderId_encoded</th>\n",
       "    </tr>\n",
       "  </thead>\n",
       "  <tbody>\n",
       "    <tr>\n",
       "      <th>0</th>\n",
       "      <td>TransactionId_76871</td>\n",
       "      <td>BatchId_36123</td>\n",
       "      <td>AccountId_3957</td>\n",
       "      <td>SubscriptionId_887</td>\n",
       "      <td>CustomerId_4406</td>\n",
       "      <td>UGX</td>\n",
       "      <td>256</td>\n",
       "      <td>ProductId_10</td>\n",
       "      <td>0.092004</td>\n",
       "      <td>0.000101</td>\n",
       "      <td>...</td>\n",
       "      <td>False</td>\n",
       "      <td>False</td>\n",
       "      <td>False</td>\n",
       "      <td>False</td>\n",
       "      <td>False</td>\n",
       "      <td>False</td>\n",
       "      <td>False</td>\n",
       "      <td>True</td>\n",
       "      <td>False</td>\n",
       "      <td>5</td>\n",
       "    </tr>\n",
       "    <tr>\n",
       "      <th>1</th>\n",
       "      <td>TransactionId_73770</td>\n",
       "      <td>BatchId_15642</td>\n",
       "      <td>AccountId_4841</td>\n",
       "      <td>SubscriptionId_3829</td>\n",
       "      <td>CustomerId_4406</td>\n",
       "      <td>UGX</td>\n",
       "      <td>256</td>\n",
       "      <td>ProductId_6</td>\n",
       "      <td>0.091910</td>\n",
       "      <td>0.000002</td>\n",
       "      <td>...</td>\n",
       "      <td>False</td>\n",
       "      <td>False</td>\n",
       "      <td>False</td>\n",
       "      <td>False</td>\n",
       "      <td>False</td>\n",
       "      <td>False</td>\n",
       "      <td>True</td>\n",
       "      <td>False</td>\n",
       "      <td>False</td>\n",
       "      <td>3</td>\n",
       "    </tr>\n",
       "    <tr>\n",
       "      <th>2</th>\n",
       "      <td>TransactionId_26203</td>\n",
       "      <td>BatchId_53941</td>\n",
       "      <td>AccountId_4229</td>\n",
       "      <td>SubscriptionId_222</td>\n",
       "      <td>CustomerId_4683</td>\n",
       "      <td>UGX</td>\n",
       "      <td>256</td>\n",
       "      <td>ProductId_1</td>\n",
       "      <td>0.091958</td>\n",
       "      <td>0.000050</td>\n",
       "      <td>...</td>\n",
       "      <td>False</td>\n",
       "      <td>False</td>\n",
       "      <td>False</td>\n",
       "      <td>False</td>\n",
       "      <td>False</td>\n",
       "      <td>False</td>\n",
       "      <td>False</td>\n",
       "      <td>True</td>\n",
       "      <td>False</td>\n",
       "      <td>5</td>\n",
       "    </tr>\n",
       "    <tr>\n",
       "      <th>3</th>\n",
       "      <td>TransactionId_380</td>\n",
       "      <td>BatchId_102363</td>\n",
       "      <td>AccountId_648</td>\n",
       "      <td>SubscriptionId_2185</td>\n",
       "      <td>CustomerId_988</td>\n",
       "      <td>UGX</td>\n",
       "      <td>256</td>\n",
       "      <td>ProductId_21</td>\n",
       "      <td>0.093750</td>\n",
       "      <td>0.002206</td>\n",
       "      <td>...</td>\n",
       "      <td>False</td>\n",
       "      <td>False</td>\n",
       "      <td>False</td>\n",
       "      <td>False</td>\n",
       "      <td>False</td>\n",
       "      <td>True</td>\n",
       "      <td>False</td>\n",
       "      <td>True</td>\n",
       "      <td>False</td>\n",
       "      <td>0</td>\n",
       "    </tr>\n",
       "    <tr>\n",
       "      <th>4</th>\n",
       "      <td>TransactionId_28195</td>\n",
       "      <td>BatchId_38780</td>\n",
       "      <td>AccountId_4841</td>\n",
       "      <td>SubscriptionId_3829</td>\n",
       "      <td>CustomerId_988</td>\n",
       "      <td>UGX</td>\n",
       "      <td>256</td>\n",
       "      <td>ProductId_6</td>\n",
       "      <td>0.091853</td>\n",
       "      <td>0.000065</td>\n",
       "      <td>...</td>\n",
       "      <td>False</td>\n",
       "      <td>False</td>\n",
       "      <td>False</td>\n",
       "      <td>False</td>\n",
       "      <td>False</td>\n",
       "      <td>False</td>\n",
       "      <td>True</td>\n",
       "      <td>False</td>\n",
       "      <td>False</td>\n",
       "      <td>3</td>\n",
       "    </tr>\n",
       "  </tbody>\n",
       "</table>\n",
       "<p>5 rows × 33 columns</p>\n",
       "</div>"
      ],
      "text/plain": [
       "         TransactionId         BatchId       AccountId       SubscriptionId  \\\n",
       "0  TransactionId_76871   BatchId_36123  AccountId_3957   SubscriptionId_887   \n",
       "1  TransactionId_73770   BatchId_15642  AccountId_4841  SubscriptionId_3829   \n",
       "2  TransactionId_26203   BatchId_53941  AccountId_4229   SubscriptionId_222   \n",
       "3    TransactionId_380  BatchId_102363   AccountId_648  SubscriptionId_2185   \n",
       "4  TransactionId_28195   BatchId_38780  AccountId_4841  SubscriptionId_3829   \n",
       "\n",
       "        CustomerId CurrencyCode  CountryCode     ProductId    Amount  \\\n",
       "0  CustomerId_4406          UGX          256  ProductId_10  0.092004   \n",
       "1  CustomerId_4406          UGX          256   ProductId_6  0.091910   \n",
       "2  CustomerId_4683          UGX          256   ProductId_1  0.091958   \n",
       "3   CustomerId_988          UGX          256  ProductId_21  0.093750   \n",
       "4   CustomerId_988          UGX          256   ProductId_6  0.091853   \n",
       "\n",
       "      Value  ... ProductCategory_movies  ProductCategory_other  \\\n",
       "0  0.000101  ...                  False                  False   \n",
       "1  0.000002  ...                  False                  False   \n",
       "2  0.000050  ...                  False                  False   \n",
       "3  0.002206  ...                  False                  False   \n",
       "4  0.000065  ...                  False                  False   \n",
       "\n",
       "   ProductCategory_ticket  ProductCategory_transport  ProductCategory_tv  \\\n",
       "0                   False                      False               False   \n",
       "1                   False                      False               False   \n",
       "2                   False                      False               False   \n",
       "3                   False                      False               False   \n",
       "4                   False                      False               False   \n",
       "\n",
       "   ProductCategory_utility_bill  ChannelId_ChannelId_2  ChannelId_ChannelId_3  \\\n",
       "0                         False                  False                   True   \n",
       "1                         False                   True                  False   \n",
       "2                         False                  False                   True   \n",
       "3                          True                  False                   True   \n",
       "4                         False                   True                  False   \n",
       "\n",
       "   ChannelId_ChannelId_5  ProviderId_encoded  \n",
       "0                  False                   5  \n",
       "1                  False                   3  \n",
       "2                  False                   5  \n",
       "3                  False                   0  \n",
       "4                  False                   3  \n",
       "\n",
       "[5 rows x 33 columns]"
      ]
     },
     "execution_count": 28,
     "metadata": {},
     "output_type": "execute_result"
    }
   ],
   "source": [
    "# Load the engineered dataset\n",
    "data_path = \"../data/processed/engineered_data.csv\"\n",
    "df = pd.read_csv(data_path)\n",
    "\n",
    "# Convert TransactionStartTime to datetime format and ensure it's timezone-naive\n",
    "df['TransactionStartTime'] = pd.to_datetime(df['TransactionStartTime']).dt.tz_localize(None)\n",
    "\n",
    "# Display the first few rows\n",
    "df.head()"
   ]
  },
  {
   "cell_type": "markdown",
   "metadata": {},
   "source": [
    "## Define Proxy Variable Using RFMS Framework\n",
    "\n",
    "We construct a proxy variable to classify users as high-risk or low-risk using the RFMS framework:\n",
    "- **Recency**: Days since the last transaction.\n",
    "- **Frequency**: Number of transactions per customer.\n",
    "- **Monetary**: Total transaction amount per customer.\n",
    "- **Status**: FraudResult as an indicator of risky behavior.\n",
    "\n",
    "The RFMS scores are normalized and combined into a single score. Users with RFMS scores below the 20th percentile are classified as high-risk, while others are classified as low-risk."
   ]
  },
  {
   "cell_type": "code",
   "execution_count": 34,
   "metadata": {},
   "outputs": [
    {
     "name": "stdout",
     "output_type": "stream",
     "text": [
      "RFMS Scores DataFrame:\n",
      "        CustomerId   Recency  Frequency  Monetary  Status  RFMS_Score  \\\n",
      "0     CustomerId_1  0.933333   0.000000  0.000048       0    0.233352   \n",
      "1    CustomerId_10  0.933333   0.000000  0.000048       0    0.233352   \n",
      "2  CustomerId_1001  0.988889   0.000978  0.001059       0    0.247890   \n",
      "3  CustomerId_1002  0.288889   0.002445  0.002560       0    0.073858   \n",
      "4  CustomerId_1003  0.133333   0.001222  0.001310       0    0.034163   \n",
      "\n",
      "  Risk_Label  \n",
      "0   Low-Risk  \n",
      "1   Low-Risk  \n",
      "2   Low-Risk  \n",
      "3   Low-Risk  \n",
      "4   Low-Risk  \n"
     ]
    }
   ],
   "source": [
    "# Calculate RFMS components\n",
    "rfms_scores = df.groupby('CustomerId').agg(\n",
    "    Recency=('TransactionStartTime', lambda x: (datetime.now() - x.max()).days),\n",
    "    Frequency=('TransactionId', 'count'),\n",
    "    Monetary=('Amount', 'sum'),\n",
    "    Status=('FraudResult', 'max')  # Use FraudResult as an indicator of risky behavior\n",
    ").reset_index()\n",
    "\n",
    "# Normalize RFMS scores\n",
    "rfms_scores[['Recency', 'Frequency', 'Monetary']] = rfms_scores[['Recency', 'Frequency', 'Monetary']].apply(\n",
    "    lambda x: (x - x.min()) / (x.max() - x.min())\n",
    ")\n",
    "\n",
    "# Combine RFMS scores into a single score\n",
    "rfms_scores['RFMS_Score'] = (\n",
    "    rfms_scores['Recency'] * 0.25 +\n",
    "    rfms_scores['Frequency'] * 0.25 +\n",
    "    rfms_scores['Monetary'] * 0.4 +\n",
    "    rfms_scores['Status'] * 0.1\n",
    ")\n",
    "\n",
    "# Define threshold for high-risk vs low-risk\n",
    "threshold = rfms_scores['RFMS_Score'].quantile(0.2)  # Top 20% are considered high-risk\n",
    "rfms_scores['Risk_Label'] = np.where(rfms_scores['RFMS_Score'] < threshold, 'High-Risk', 'Low-Risk')\n",
    "\n",
    "# Display the RFMS scores DataFrame to verify\n",
    "print(\"RFMS Scores DataFrame:\")\n",
    "print(rfms_scores.head())"
   ]
  },
  {
   "cell_type": "code",
   "execution_count": 35,
   "metadata": {},
   "outputs": [
    {
     "name": "stdout",
     "output_type": "stream",
     "text": [
      "Updated DataFrame with Risk_Label and Target:\n",
      "        CustomerId Risk_Label  Target\n",
      "0  CustomerId_4406   Low-Risk       0\n",
      "1  CustomerId_4406   Low-Risk       0\n",
      "2  CustomerId_4683   Low-Risk       0\n",
      "3   CustomerId_988   Low-Risk       0\n",
      "4   CustomerId_988   Low-Risk       0\n"
     ]
    },
    {
     "name": "stderr",
     "output_type": "stream",
     "text": [
      "/tmp/ipykernel_8390/551724084.py:9: FutureWarning: A value is trying to be set on a copy of a DataFrame or Series through chained assignment using an inplace method.\n",
      "The behavior will change in pandas 3.0. This inplace method will never work because the intermediate object on which we are setting values always behaves as a copy.\n",
      "\n",
      "For example, when doing 'df[col].method(value, inplace=True)', try using 'df.method({col: value}, inplace=True)' or df[col] = df[col].method(value) instead, to perform the operation inplace on the original object.\n",
      "\n",
      "\n",
      "  df['Risk_Label'].fillna('Low-Risk', inplace=True)  # Assign default value of 'Low-Risk' for missing entries\n"
     ]
    }
   ],
   "source": [
    "# Merge risk labels back to the main dataframe\n",
    "df = df.merge(rfms_scores[['CustomerId', 'Risk_Label']], on='CustomerId', how='left')\n",
    "\n",
    "# Check if the merge was successful\n",
    "if 'Risk_Label' not in df.columns:\n",
    "    raise KeyError(\"Merge failed: 'Risk_Label' column is missing in the merged DataFrame.\")\n",
    "\n",
    "# Handle missing values in Risk_Label (if any)\n",
    "df['Risk_Label'].fillna('Low-Risk', inplace=True)  # Assign default value of 'Low-Risk' for missing entries\n",
    "\n",
    "# Create a binary target variable (1 for High-Risk, 0 for Low-Risk)\n",
    "df['Target'] = df['Risk_Label'].map({'High-Risk': 1, 'Low-Risk': 0})\n",
    "\n",
    "# Display the updated dataframe\n",
    "print(\"Updated DataFrame with Risk_Label and Target:\")\n",
    "print(df[['CustomerId', 'Risk_Label', 'Target']].head())"
   ]
  },
  {
   "cell_type": "code",
   "execution_count": 36,
   "metadata": {},
   "outputs": [
    {
     "name": "stdout",
     "output_type": "stream",
     "text": [
      "Columns in rfms_scores: ['CustomerId', 'Recency', 'Frequency', 'Monetary', 'Status', 'RFMS_Score', 'Risk_Label']\n",
      "First few rows of rfms_scores:\n",
      "        CustomerId   Recency  Frequency  Monetary  Status  RFMS_Score  \\\n",
      "0     CustomerId_1  0.933333   0.000000  0.000048       0    0.233352   \n",
      "1    CustomerId_10  0.933333   0.000000  0.000048       0    0.233352   \n",
      "2  CustomerId_1001  0.988889   0.000978  0.001059       0    0.247890   \n",
      "3  CustomerId_1002  0.288889   0.002445  0.002560       0    0.073858   \n",
      "4  CustomerId_1003  0.133333   0.001222  0.001310       0    0.034163   \n",
      "\n",
      "  Risk_Label  \n",
      "0   Low-Risk  \n",
      "1   Low-Risk  \n",
      "2   Low-Risk  \n",
      "3   Low-Risk  \n",
      "4   Low-Risk  \n"
     ]
    }
   ],
   "source": [
    "print(\"Columns in rfms_scores:\", rfms_scores.columns.tolist())\n",
    "print(\"First few rows of rfms_scores:\")\n",
    "print(rfms_scores.head())"
   ]
  },
  {
   "cell_type": "code",
   "execution_count": 37,
   "metadata": {},
   "outputs": [
    {
     "name": "stdout",
     "output_type": "stream",
     "text": [
      "Columns in df after merge: ['TransactionId', 'BatchId', 'AccountId', 'SubscriptionId', 'CustomerId', 'CurrencyCode', 'CountryCode', 'ProductId', 'Amount', 'Value', 'TransactionStartTime', 'PricingStrategy', 'FraudResult', 'TotalTransactionAmount', 'AverageTransactionAmount', 'TransactionCount', 'StdDevTransactionAmount', 'TransactionHour', 'TransactionDay', 'TransactionMonth', 'TransactionYear', 'ProductCategory_data_bundles', 'ProductCategory_financial_services', 'ProductCategory_movies', 'ProductCategory_other', 'ProductCategory_ticket', 'ProductCategory_transport', 'ProductCategory_tv', 'ProductCategory_utility_bill', 'ChannelId_ChannelId_2', 'ChannelId_ChannelId_3', 'ChannelId_ChannelId_5', 'ProviderId_encoded', 'Risk_Label_x', 'Target', 'Risk_Label_y', 'Risk_Label']\n",
      "First few rows of df after merge:\n",
      "        CustomerId Risk_Label\n",
      "0  CustomerId_4406   Low-Risk\n",
      "1  CustomerId_4406   Low-Risk\n",
      "2  CustomerId_4683   Low-Risk\n",
      "3   CustomerId_988   Low-Risk\n",
      "4   CustomerId_988   Low-Risk\n"
     ]
    }
   ],
   "source": [
    "print(\"Columns in df after merge:\", df.columns.tolist())\n",
    "print(\"First few rows of df after merge:\")\n",
    "print(df[['CustomerId', 'Risk_Label']].head())"
   ]
  },
  {
   "cell_type": "code",
   "execution_count": 38,
   "metadata": {},
   "outputs": [],
   "source": [
    "if rfms_scores['CustomerId'].duplicated().any():\n",
    "    print(\"Duplicate CustomerIds found in rfms_scores!\")"
   ]
  },
  {
   "cell_type": "markdown",
   "metadata": {},
   "source": [
    "## Perform Weight of Evidence (WoE) Binning\n",
    "\n",
    "We perform Weight of Evidence (WoE) binning on selected features using the `scorecardpy` package. The WoE values capture the relationship between each category or bin and the target variable (Risk_Label).\n",
    "\n",
    "For each feature:\n",
    "- We calculate WoE bins and visualize them.\n",
    "- We replace the original values with their corresponding WoE values."
   ]
  },
  {
   "cell_type": "code",
   "execution_count": 40,
   "metadata": {},
   "outputs": [
    {
     "name": "stdout",
     "output_type": "stream",
     "text": [
      "['TransactionId', 'BatchId', 'AccountId', 'SubscriptionId', 'CustomerId', 'CurrencyCode', 'CountryCode', 'ProductId', 'Amount', 'Value', 'TransactionStartTime', 'PricingStrategy', 'FraudResult', 'TotalTransactionAmount', 'AverageTransactionAmount', 'TransactionCount', 'StdDevTransactionAmount', 'TransactionHour', 'TransactionDay', 'TransactionMonth', 'TransactionYear', 'ProductCategory_data_bundles', 'ProductCategory_financial_services', 'ProductCategory_movies', 'ProductCategory_other', 'ProductCategory_ticket', 'ProductCategory_transport', 'ProductCategory_tv', 'ProductCategory_utility_bill', 'ChannelId_ChannelId_2', 'ChannelId_ChannelId_3', 'ChannelId_ChannelId_5', 'ProviderId_encoded', 'Risk_Label_x', 'Target', 'Risk_Label_y', 'Risk_Label']\n"
     ]
    }
   ],
   "source": [
    "# Print the list of columns in the DataFrame\n",
    "print(df.columns.tolist())"
   ]
  },
  {
   "cell_type": "code",
   "execution_count": 39,
   "metadata": {},
   "outputs": [
    {
     "ename": "KeyError",
     "evalue": "\"['ChannelId', 'ProductCategory', 'ProviderId'] not in index\"",
     "output_type": "error",
     "traceback": [
      "\u001b[31m---------------------------------------------------------------------------\u001b[39m",
      "\u001b[31mKeyError\u001b[39m                                  Traceback (most recent call last)",
      "\u001b[36mCell\u001b[39m\u001b[36m \u001b[39m\u001b[32mIn[39]\u001b[39m\u001b[32m, line 5\u001b[39m\n\u001b[32m      2\u001b[39m features = [\u001b[33m'\u001b[39m\u001b[33mChannelId\u001b[39m\u001b[33m'\u001b[39m, \u001b[33m'\u001b[39m\u001b[33mProductCategory\u001b[39m\u001b[33m'\u001b[39m, \u001b[33m'\u001b[39m\u001b[33mProviderId\u001b[39m\u001b[33m'\u001b[39m, \u001b[33m'\u001b[39m\u001b[33mAmount\u001b[39m\u001b[33m'\u001b[39m, \u001b[33m'\u001b[39m\u001b[33mValue\u001b[39m\u001b[33m'\u001b[39m]\n\u001b[32m      4\u001b[39m \u001b[38;5;66;03m# Perform WoE binning\u001b[39;00m\n\u001b[32m----> \u001b[39m\u001b[32m5\u001b[39m bins = sc.woebin(\u001b[43mdf\u001b[49m\u001b[43m[\u001b[49m\u001b[43mfeatures\u001b[49m\u001b[43m \u001b[49m\u001b[43m+\u001b[49m\u001b[43m \u001b[49m\u001b[43m[\u001b[49m\u001b[33;43m'\u001b[39;49m\u001b[33;43mTarget\u001b[39;49m\u001b[33;43m'\u001b[39;49m\u001b[43m]\u001b[49m\u001b[43m]\u001b[49m, y=\u001b[33m'\u001b[39m\u001b[33mTarget\u001b[39m\u001b[33m'\u001b[39m)\n\u001b[32m      7\u001b[39m \u001b[38;5;66;03m# Plot WoE bins for each feature\u001b[39;00m\n\u001b[32m      8\u001b[39m \u001b[38;5;28;01mfor\u001b[39;00m feature, bin_table \u001b[38;5;129;01min\u001b[39;00m bins.items():\n",
      "\u001b[36mFile \u001b[39m\u001b[32m~/Desktop/D/KAIM 3/Credit-Scoring-Model/venv/lib/python3.12/site-packages/pandas/core/frame.py:4108\u001b[39m, in \u001b[36mDataFrame.__getitem__\u001b[39m\u001b[34m(self, key)\u001b[39m\n\u001b[32m   4106\u001b[39m     \u001b[38;5;28;01mif\u001b[39;00m is_iterator(key):\n\u001b[32m   4107\u001b[39m         key = \u001b[38;5;28mlist\u001b[39m(key)\n\u001b[32m-> \u001b[39m\u001b[32m4108\u001b[39m     indexer = \u001b[38;5;28;43mself\u001b[39;49m\u001b[43m.\u001b[49m\u001b[43mcolumns\u001b[49m\u001b[43m.\u001b[49m\u001b[43m_get_indexer_strict\u001b[49m\u001b[43m(\u001b[49m\u001b[43mkey\u001b[49m\u001b[43m,\u001b[49m\u001b[43m \u001b[49m\u001b[33;43m\"\u001b[39;49m\u001b[33;43mcolumns\u001b[39;49m\u001b[33;43m\"\u001b[39;49m\u001b[43m)\u001b[49m[\u001b[32m1\u001b[39m]\n\u001b[32m   4110\u001b[39m \u001b[38;5;66;03m# take() does not accept boolean indexers\u001b[39;00m\n\u001b[32m   4111\u001b[39m \u001b[38;5;28;01mif\u001b[39;00m \u001b[38;5;28mgetattr\u001b[39m(indexer, \u001b[33m\"\u001b[39m\u001b[33mdtype\u001b[39m\u001b[33m\"\u001b[39m, \u001b[38;5;28;01mNone\u001b[39;00m) == \u001b[38;5;28mbool\u001b[39m:\n",
      "\u001b[36mFile \u001b[39m\u001b[32m~/Desktop/D/KAIM 3/Credit-Scoring-Model/venv/lib/python3.12/site-packages/pandas/core/indexes/base.py:6200\u001b[39m, in \u001b[36mIndex._get_indexer_strict\u001b[39m\u001b[34m(self, key, axis_name)\u001b[39m\n\u001b[32m   6197\u001b[39m \u001b[38;5;28;01melse\u001b[39;00m:\n\u001b[32m   6198\u001b[39m     keyarr, indexer, new_indexer = \u001b[38;5;28mself\u001b[39m._reindex_non_unique(keyarr)\n\u001b[32m-> \u001b[39m\u001b[32m6200\u001b[39m \u001b[38;5;28;43mself\u001b[39;49m\u001b[43m.\u001b[49m\u001b[43m_raise_if_missing\u001b[49m\u001b[43m(\u001b[49m\u001b[43mkeyarr\u001b[49m\u001b[43m,\u001b[49m\u001b[43m \u001b[49m\u001b[43mindexer\u001b[49m\u001b[43m,\u001b[49m\u001b[43m \u001b[49m\u001b[43maxis_name\u001b[49m\u001b[43m)\u001b[49m\n\u001b[32m   6202\u001b[39m keyarr = \u001b[38;5;28mself\u001b[39m.take(indexer)\n\u001b[32m   6203\u001b[39m \u001b[38;5;28;01mif\u001b[39;00m \u001b[38;5;28misinstance\u001b[39m(key, Index):\n\u001b[32m   6204\u001b[39m     \u001b[38;5;66;03m# GH 42790 - Preserve name from an Index\u001b[39;00m\n",
      "\u001b[36mFile \u001b[39m\u001b[32m~/Desktop/D/KAIM 3/Credit-Scoring-Model/venv/lib/python3.12/site-packages/pandas/core/indexes/base.py:6252\u001b[39m, in \u001b[36mIndex._raise_if_missing\u001b[39m\u001b[34m(self, key, indexer, axis_name)\u001b[39m\n\u001b[32m   6249\u001b[39m     \u001b[38;5;28;01mraise\u001b[39;00m \u001b[38;5;167;01mKeyError\u001b[39;00m(\u001b[33mf\u001b[39m\u001b[33m\"\u001b[39m\u001b[33mNone of [\u001b[39m\u001b[38;5;132;01m{\u001b[39;00mkey\u001b[38;5;132;01m}\u001b[39;00m\u001b[33m] are in the [\u001b[39m\u001b[38;5;132;01m{\u001b[39;00maxis_name\u001b[38;5;132;01m}\u001b[39;00m\u001b[33m]\u001b[39m\u001b[33m\"\u001b[39m)\n\u001b[32m   6251\u001b[39m not_found = \u001b[38;5;28mlist\u001b[39m(ensure_index(key)[missing_mask.nonzero()[\u001b[32m0\u001b[39m]].unique())\n\u001b[32m-> \u001b[39m\u001b[32m6252\u001b[39m \u001b[38;5;28;01mraise\u001b[39;00m \u001b[38;5;167;01mKeyError\u001b[39;00m(\u001b[33mf\u001b[39m\u001b[33m\"\u001b[39m\u001b[38;5;132;01m{\u001b[39;00mnot_found\u001b[38;5;132;01m}\u001b[39;00m\u001b[33m not in index\u001b[39m\u001b[33m\"\u001b[39m)\n",
      "\u001b[31mKeyError\u001b[39m: \"['ChannelId', 'ProductCategory', 'ProviderId'] not in index\""
     ]
    }
   ],
   "source": [
    "# Select features for WoE binning\n",
    "features = ['ChannelId', 'ProductCategory', 'ProviderId', 'Amount', 'Value']\n",
    "\n",
    "# Perform WoE binning\n",
    "bins = sc.woebin(df[features + ['Target']], y='Target')\n",
    "\n",
    "# Plot WoE bins for each feature\n",
    "for feature, bin_table in bins.items():\n",
    "    plt.figure(figsize=(8, 4))\n",
    "    sc.woebin_plot(bin_table)\n",
    "    plt.title(f\"Weight of Evidence (WoE) Bins for {feature}\")\n",
    "    plt.show()\n",
    "\n",
    "# Replace original values with WoE values\n",
    "df = sc.woebin_ply(df, bins)\n",
    "\n",
    "# Display the updated dataframe\n",
    "df.head()"
   ]
  },
  {
   "cell_type": "markdown",
   "metadata": {},
   "source": [
    "## Calculate Information Value (IV)\n",
    "\n",
    "We calculate the Information Value (IV) for each feature to assess its predictive power. Features with higher IV values are better predictors of the target variable.\n",
    "\n",
    "The IV values are visualized using a bar chart for clarity."
   ]
  },
  {
   "cell_type": "code",
   "execution_count": null,
   "metadata": {},
   "outputs": [],
   "source": [
    "# Extract IV values from WoE bins\n",
    "iv_values = {feature: bins[feature]['total_iv'][0] for feature in features}\n",
    "\n",
    "# Display IV results\n",
    "iv_df = pd.DataFrame.from_dict(iv_values, orient='index', columns=['Information_Value'])\n",
    "iv_df.sort_values(by='Information_Value', ascending=False, inplace=True)\n",
    "\n",
    "# Visualize IV values\n",
    "plt.figure(figsize=(8, 5))\n",
    "sns.barplot(x=iv_df.index, y=iv_df['Information_Value'], palette='viridis')\n",
    "plt.title(\"Information Value (IV) for Each Feature\")\n",
    "plt.xticks(rotation=45)\n",
    "plt.show()\n",
    "\n",
    "# Display IV table\n",
    "iv_df"
   ]
  },
  {
   "cell_type": "markdown",
   "metadata": {},
   "source": [
    "## Save the Updated Dataset\n",
    "\n",
    "We save the updated dataset with WoE-transformed features to `data/processed/default_estimator_data.csv` for use in subsequent tasks such as modeling."
   ]
  },
  {
   "cell_type": "code",
   "execution_count": null,
   "metadata": {},
   "outputs": [],
   "source": [
    "# Save the updated dataset\n",
    "updated_data_path = \"../data/processed/default_estimator_data.csv\"\n",
    "df.to_csv(updated_data_path, index=False)\n",
    "\n",
    "print(f\"Updated dataset saved to {updated_data_path}\")"
   ]
  }
 ],
 "metadata": {
  "kernelspec": {
   "display_name": "venv",
   "language": "python",
   "name": "python3"
  },
  "language_info": {
   "codemirror_mode": {
    "name": "ipython",
    "version": 3
   },
   "file_extension": ".py",
   "mimetype": "text/x-python",
   "name": "python",
   "nbconvert_exporter": "python",
   "pygments_lexer": "ipython3",
   "version": "3.12.3"
  }
 },
 "nbformat": 4,
 "nbformat_minor": 2
}
